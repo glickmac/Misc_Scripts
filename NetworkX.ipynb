{
 "cells": [
  {
   "cell_type": "markdown",
   "metadata": {},
   "source": [
    "### Import Networkx Package"
   ]
  },
  {
   "cell_type": "code",
   "execution_count": 17,
   "metadata": {
    "collapsed": true
   },
   "outputs": [],
   "source": [
    "import networkx\n",
    "\n",
    "my_graph = networkx.Graph()"
   ]
  },
  {
   "cell_type": "markdown",
   "metadata": {},
   "source": [
    "### Add Nodes"
   ]
  },
  {
   "cell_type": "code",
   "execution_count": 18,
   "metadata": {
    "collapsed": true
   },
   "outputs": [],
   "source": [
    "my_graph.add_node(1)\n",
    "my_graph.add_node(2)\n",
    "my_graph.add_node(3)\n",
    "my_graph.add_node(4)"
   ]
  },
  {
   "cell_type": "markdown",
   "metadata": {},
   "source": [
    "### Add Edges"
   ]
  },
  {
   "cell_type": "code",
   "execution_count": 19,
   "metadata": {
    "collapsed": true
   },
   "outputs": [],
   "source": [
    "my_graph.add_edge(1,2)\n",
    "my_graph.add_edge(3,1)\n",
    "my_graph.add_edge(2,4)\n",
    "my_graph.add_edge(1,4)"
   ]
  },
  {
   "cell_type": "markdown",
   "metadata": {},
   "source": [
    "### Print Names of Nodes"
   ]
  },
  {
   "cell_type": "code",
   "execution_count": 20,
   "metadata": {},
   "outputs": [
    {
     "name": "stdout",
     "output_type": "stream",
     "text": [
      "[1, 2, 3, 4]\n"
     ]
    }
   ],
   "source": [
    "node_list = my_graph.nodes()\n",
    "print(node_list)"
   ]
  },
  {
   "cell_type": "markdown",
   "metadata": {},
   "source": [
    "### Print Edges in Graph"
   ]
  },
  {
   "cell_type": "code",
   "execution_count": 21,
   "metadata": {},
   "outputs": [
    {
     "name": "stdout",
     "output_type": "stream",
     "text": [
      "[(1, 2), (1, 3), (1, 4), (2, 4)]\n"
     ]
    }
   ],
   "source": [
    "edge_list = my_graph.edges()\n",
    "print(edge_list)"
   ]
  },
  {
   "cell_type": "markdown",
   "metadata": {},
   "source": [
    "### Remove nodes and edges"
   ]
  },
  {
   "cell_type": "code",
   "execution_count": 9,
   "metadata": {},
   "outputs": [
    {
     "name": "stdout",
     "output_type": "stream",
     "text": [
      "[(1, 2), (1, 3), (1, 4)]\n",
      "[1, 3, 4]\n"
     ]
    }
   ],
   "source": [
    "my_graph.remove_edge(2,4)\n",
    "edge_list = my_graph.edges()\n",
    "print(edge_list)\n",
    "my_graph.remove_node(2)\n",
    "node_list = my_graph.nodes()\n",
    "print(node_list)"
   ]
  },
  {
   "cell_type": "markdown",
   "metadata": {},
   "source": [
    "### Degree and Neighbors"
   ]
  },
  {
   "cell_type": "code",
   "execution_count": 30,
   "metadata": {},
   "outputs": [
    {
     "name": "stdout",
     "output_type": "stream",
     "text": [
      "4\n",
      "3\n"
     ]
    }
   ],
   "source": [
    "## Total number of edges\n",
    "edge_total = my_graph.number_of_edges()\n",
    "print(edge_total)\n",
    "\n",
    "## Degree\n",
    "deg = my_graph.degree(1)\n",
    "print(deg)\n",
    "\n",
    "## Neighbors\n",
    "neigh = my_graph.neighbors(1)"
   ]
  },
  {
   "cell_type": "markdown",
   "metadata": {},
   "source": [
    "### Count Triangles in Graph"
   ]
  },
  {
   "cell_type": "code",
   "execution_count": 41,
   "metadata": {},
   "outputs": [],
   "source": [
    "def countTriangles(g, isDirected):\n",
    "    nodes = len(g)\n",
    "    count_Triangle = 0\n",
    "    \n",
    "    \n",
    "    for i in range(nodes):\n",
    "        for j in range(nodes):\n",
    "            for k in range(nodes):\n",
    "                if( i!=j and i!=k and j!=k and g[i][j] and g[j][k] and g[k][i]):\n",
    "                    count_Triangle += 1\n",
    "    return count_Triangle/3 if isDirected else count_Triangle/6"
   ]
  },
  {
   "cell_type": "code",
   "execution_count": 44,
   "metadata": {
    "collapsed": true
   },
   "outputs": [],
   "source": [
    "graph = [[0,1,1,0],\n",
    "        [1,0,1,1],\n",
    "        [1,1,0,1],\n",
    "        [0,1,1,0]]"
   ]
  },
  {
   "cell_type": "code",
   "execution_count": 45,
   "metadata": {},
   "outputs": [
    {
     "name": "stdout",
     "output_type": "stream",
     "text": [
      "2\n"
     ]
    }
   ],
   "source": [
    "x = countTriangles(graph, False)\n",
    "print(x)"
   ]
  },
  {
   "cell_type": "code",
   "execution_count": null,
   "metadata": {
    "collapsed": true
   },
   "outputs": [],
   "source": []
  }
 ],
 "metadata": {
  "kernelspec": {
   "display_name": "Python 2",
   "language": "python",
   "name": "python2"
  },
  "language_info": {
   "codemirror_mode": {
    "name": "ipython",
    "version": 2
   },
   "file_extension": ".py",
   "mimetype": "text/x-python",
   "name": "python",
   "nbconvert_exporter": "python",
   "pygments_lexer": "ipython2",
   "version": "2.7.14"
  }
 },
 "nbformat": 4,
 "nbformat_minor": 2
}
