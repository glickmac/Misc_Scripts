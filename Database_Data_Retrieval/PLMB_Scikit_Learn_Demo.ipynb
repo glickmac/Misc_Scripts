{
 "cells": [
  {
   "cell_type": "code",
   "execution_count": 4,
   "metadata": {},
   "outputs": [
    {
     "name": "stdout",
     "output_type": "stream",
     "text": [
      "                age     workclass        fnlwgt     education  education-num  \\\n",
      "count  48842.000000  48842.000000  4.884200e+04  48842.000000   48842.000000   \n",
      "mean      38.643585      3.870439  1.896641e+05     10.288420      10.078089   \n",
      "std       13.710510      1.464234  1.056040e+05      3.874492       2.570973   \n",
      "min       17.000000      0.000000  1.228500e+04      0.000000       1.000000   \n",
      "25%       28.000000      4.000000  1.175505e+05      9.000000       9.000000   \n",
      "50%       37.000000      4.000000  1.781445e+05     11.000000      10.000000   \n",
      "75%       48.000000      4.000000  2.376420e+05     12.000000      12.000000   \n",
      "max       90.000000      8.000000  1.490400e+06     15.000000      16.000000   \n",
      "\n",
      "       marital-status    occupation  relationship          race           sex  \\\n",
      "count    48842.000000  48842.000000  48842.000000  48842.000000  48842.000000   \n",
      "mean         2.618750      6.577700      1.443287      3.668052      0.668482   \n",
      "std          1.507703      4.230509      1.602151      0.845986      0.470764   \n",
      "min          0.000000      0.000000      0.000000      0.000000      0.000000   \n",
      "25%          2.000000      3.000000      0.000000      4.000000      0.000000   \n",
      "50%          2.000000      7.000000      1.000000      4.000000      1.000000   \n",
      "75%          4.000000     10.000000      3.000000      4.000000      1.000000   \n",
      "max          6.000000     14.000000      5.000000      4.000000      1.000000   \n",
      "\n",
      "       capital-gain  capital-loss  hours-per-week  native-country  \\\n",
      "count  48842.000000  48842.000000    48842.000000    48842.000000   \n",
      "mean    1079.067626     87.502314       40.422382       36.749355   \n",
      "std     7452.019058    403.004552       12.391444        7.775343   \n",
      "min        0.000000      0.000000        1.000000        0.000000   \n",
      "25%        0.000000      0.000000       40.000000       39.000000   \n",
      "50%        0.000000      0.000000       40.000000       39.000000   \n",
      "75%        0.000000      0.000000       45.000000       39.000000   \n",
      "max    99999.000000   4356.000000       99.000000       41.000000   \n",
      "\n",
      "             target  \n",
      "count  48842.000000  \n",
      "mean       0.760718  \n",
      "std        0.426649  \n",
      "min        0.000000  \n",
      "25%        1.000000  \n",
      "50%        1.000000  \n",
      "75%        1.000000  \n",
      "max        1.000000  \n"
     ]
    }
   ],
   "source": [
    "from pmlb import fetch_data\n",
    "\n",
    "# Returns a pandas DataFrame\n",
    "adult_data = fetch_data('adult')\n",
    "print(adult_data.describe())"
   ]
  },
  {
   "cell_type": "code",
   "execution_count": 5,
   "metadata": {},
   "outputs": [
    {
     "name": "stdout",
     "output_type": "stream",
     "text": [
      "[[  3.90000000e+01   7.00000000e+00   7.75160000e+04 ...,   0.00000000e+00\n",
      "    4.00000000e+01   3.90000000e+01]\n",
      " [  5.00000000e+01   6.00000000e+00   8.33110000e+04 ...,   0.00000000e+00\n",
      "    1.30000000e+01   3.90000000e+01]\n",
      " [  3.80000000e+01   4.00000000e+00   2.15646000e+05 ...,   0.00000000e+00\n",
      "    4.00000000e+01   3.90000000e+01]\n",
      " ..., \n",
      " [  3.80000000e+01   4.00000000e+00   3.74983000e+05 ...,   0.00000000e+00\n",
      "    5.00000000e+01   3.90000000e+01]\n",
      " [  4.40000000e+01   4.00000000e+00   8.38910000e+04 ...,   0.00000000e+00\n",
      "    4.00000000e+01   3.90000000e+01]\n",
      " [  3.50000000e+01   5.00000000e+00   1.82148000e+05 ...,   0.00000000e+00\n",
      "    6.00000000e+01   3.90000000e+01]]\n",
      "[1 1 1 ..., 1 1 0]\n"
     ]
    }
   ],
   "source": [
    "# Returns NumPy arrays\n",
    "adult_X, adult_y = fetch_data('adult', return_X_y=True, local_cache_dir='./')\n",
    "print(adult_X)\n",
    "print(adult_y)"
   ]
  },
  {
   "cell_type": "code",
   "execution_count": 6,
   "metadata": {},
   "outputs": [
    {
     "name": "stdout",
     "output_type": "stream",
     "text": [
      "['GAMETES_Epistasis_2-Way_1000atts_0.4H_EDM-1_EDM-1_1', 'GAMETES_Epistasis_2-Way_20atts_0.1H_EDM-1_1', 'GAMETES_Epistasis_2-Way_20atts_0.4H_EDM-1_1', 'GAMETES_Epistasis_3-Way_20atts_0.2H_EDM-1_1', 'GAMETES_Heterogeneity_20atts_1600_Het_0.4_0.2_50_EDM-2_001', 'GAMETES_Heterogeneity_20atts_1600_Het_0.4_0.2_75_EDM-2_001', 'Hill_Valley_with_noise', 'Hill_Valley_without_noise', 'adult', 'agaricus-lepiota', 'allbp', 'allhyper', 'allhypo', 'allrep', 'analcatdata_aids', 'analcatdata_asbestos', 'analcatdata_authorship', 'analcatdata_bankruptcy', 'analcatdata_boxing1', 'analcatdata_boxing2', 'analcatdata_creditscore', 'analcatdata_cyyoung8092', 'analcatdata_cyyoung9302', 'analcatdata_dmft', 'analcatdata_fraud', 'analcatdata_germangss', 'analcatdata_happiness', 'analcatdata_japansolvent', 'analcatdata_lawsuit', 'ann-thyroid', 'appendicitis', 'australian', 'auto', 'backache', 'balance-scale', 'banana', 'biomed', 'breast', 'breast-cancer', 'breast-cancer-wisconsin', 'breast-w', 'buggyCrx', 'bupa', 'calendarDOW', 'car', 'car-evaluation', 'cars', 'cars1', 'chess', 'churn', 'clean1', 'clean2', 'cleve', 'cleveland', 'cleveland-nominal', 'cloud', 'cmc', 'coil2000', 'colic', 'collins', 'confidence', 'connect-4', 'contraceptive', 'corral', 'credit-a', 'credit-g', 'crx', 'dermatology', 'diabetes', 'dis', 'dna', 'ecoli', 'fars', 'flags', 'flare', 'german', 'glass', 'glass2', 'haberman', 'hayes-roth', 'heart-c', 'heart-h', 'heart-statlog', 'hepatitis', 'horse-colic', 'house-votes-84', 'hungarian', 'hypothyroid', 'ionosphere', 'iris', 'irish', 'kddcup', 'kr-vs-kp', 'krkopt', 'labor', 'led24', 'led7', 'letter', 'liver-disorder', 'lupus', 'lymphography', 'magic', 'mfeat-factors', 'mfeat-fourier', 'mfeat-karhunen', 'mfeat-morphological', 'mfeat-pixel', 'mfeat-zernike', 'mnist', 'mofn-3-7-10', 'molecular-biology_promoters', 'monk1', 'monk2', 'monk3', 'movement_libras', 'mushroom', 'mux6', 'new-thyroid', 'nursery', 'optdigits', 'page-blocks', 'parity5', 'parity5+5', 'pendigits', 'phoneme', 'pima', 'poker', 'postoperative-patient-data', 'prnn_crabs', 'prnn_fglass', 'prnn_synth', 'profb', 'promoters', 'ring', 'saheart', 'satimage', 'schizo', 'segmentation', 'shuttle', 'sleep', 'solar-flare_1', 'solar-flare_2', 'sonar', 'soybean', 'spambase', 'spect', 'spectf', 'splice', 'tae', 'texture', 'threeOf9', 'tic-tac-toe', 'titanic', 'tokyo1', 'twonorm', 'vehicle', 'vote', 'vowel', 'waveform-21', 'waveform-40', 'wdbc', 'wine-quality-red', 'wine-quality-white', 'wine-recognition', 'xd6', 'yeast', '1027_ESL', '1028_SWD', '1029_LEV', '1030_ERA', '1089_USCrime', '1096_FacultySalaries', '1191_BNG_pbc', '1193_BNG_lowbwt', '1196_BNG_pharynx', '1199_BNG_echoMonths', '1201_BNG_breastTumor', '1203_BNG_pwLinear', '1595_poker', '192_vineyard', '195_auto_price', '197_cpu_act', '201_pol', '207_autoPrice', '210_cloud', '215_2dplanes', '218_house_8L', '225_puma8NH', '227_cpu_small', '228_elusage', '229_pwLinear', '230_machine_cpu', '294_satellite_image', '344_mv', '4544_GeographicalOriginalofMusic', '485_analcatdata_vehicle', '503_wind', '505_tecator', '519_vinnie', '522_pm10', '523_analcatdata_neavote', '527_analcatdata_election2000', '529_pollen', '537_houses', '542_pollution', '547_no2', '556_analcatdata_apnea2', '557_analcatdata_apnea1', '560_bodyfat', '561_cpu', '562_cpu_small', '564_fried', '573_cpu_act', '574_house_16H', '579_fri_c0_250_5', '581_fri_c3_500_25', '582_fri_c1_500_25', '583_fri_c1_1000_50', '584_fri_c4_500_25', '586_fri_c3_1000_25', '588_fri_c4_1000_100', '589_fri_c2_1000_25', '590_fri_c0_1000_50', '591_fri_c1_100_10', '592_fri_c4_1000_25', '593_fri_c1_1000_10', '594_fri_c2_100_5', '595_fri_c0_1000_10', '596_fri_c2_250_5', '597_fri_c2_500_5', '598_fri_c0_1000_25', '599_fri_c2_1000_5', '601_fri_c1_250_5', '602_fri_c3_250_10', '603_fri_c0_250_50', '604_fri_c4_500_10', '605_fri_c2_250_25', '606_fri_c2_1000_10', '607_fri_c4_1000_50', '608_fri_c3_1000_10', '609_fri_c0_1000_5', '611_fri_c3_100_5', '612_fri_c1_1000_5', '613_fri_c3_250_5', '615_fri_c4_250_10', '616_fri_c4_500_50', '617_fri_c3_500_5', '618_fri_c3_1000_50', '620_fri_c1_1000_25', '621_fri_c0_100_10', '622_fri_c2_1000_50', '623_fri_c4_1000_10', '624_fri_c0_100_5', '626_fri_c2_500_50', '627_fri_c2_500_10', '628_fri_c3_1000_5', '631_fri_c1_500_5', '633_fri_c0_500_25', '634_fri_c2_100_10', '635_fri_c0_250_10', '637_fri_c1_500_50', '641_fri_c1_500_10', '643_fri_c2_500_25', '644_fri_c4_250_25', '645_fri_c3_500_50', '646_fri_c3_500_10', '647_fri_c1_250_10', '648_fri_c1_250_50', '649_fri_c0_500_5', '650_fri_c0_500_50', '651_fri_c0_100_25', '653_fri_c0_250_25', '654_fri_c0_500_10', '656_fri_c1_100_5', '657_fri_c2_250_10', '658_fri_c3_250_25', '659_sleuth_ex1714', '663_rabe_266', '665_sleuth_case2002', '666_rmftsa_ladata', '678_visualizing_environmental', '687_sleuth_ex1605', '690_visualizing_galaxy', '695_chatfield_4', '706_sleuth_case1202', '712_chscase_geyser1']\n"
     ]
    }
   ],
   "source": [
    "from pmlb import dataset_names\n",
    "print(dataset_names)"
   ]
  },
  {
   "cell_type": "code",
   "execution_count": 8,
   "metadata": {},
   "outputs": [
    {
     "name": "stdout",
     "output_type": "stream",
     "text": [
      "['GAMETES_Epistasis_2-Way_1000atts_0.4H_EDM-1_EDM-1_1', 'GAMETES_Epistasis_2-Way_20atts_0.1H_EDM-1_1', 'GAMETES_Epistasis_2-Way_20atts_0.4H_EDM-1_1', 'GAMETES_Epistasis_3-Way_20atts_0.2H_EDM-1_1', 'GAMETES_Heterogeneity_20atts_1600_Het_0.4_0.2_50_EDM-2_001', 'GAMETES_Heterogeneity_20atts_1600_Het_0.4_0.2_75_EDM-2_001', 'Hill_Valley_with_noise', 'Hill_Valley_without_noise', 'adult', 'agaricus-lepiota', 'allbp', 'allhyper', 'allhypo', 'allrep', 'analcatdata_aids', 'analcatdata_asbestos', 'analcatdata_authorship', 'analcatdata_bankruptcy', 'analcatdata_boxing1', 'analcatdata_boxing2', 'analcatdata_creditscore', 'analcatdata_cyyoung8092', 'analcatdata_cyyoung9302', 'analcatdata_dmft', 'analcatdata_fraud', 'analcatdata_germangss', 'analcatdata_happiness', 'analcatdata_japansolvent', 'analcatdata_lawsuit', 'ann-thyroid', 'appendicitis', 'australian', 'auto', 'backache', 'balance-scale', 'banana', 'biomed', 'breast', 'breast-cancer', 'breast-cancer-wisconsin', 'breast-w', 'buggyCrx', 'bupa', 'calendarDOW', 'car', 'car-evaluation', 'cars', 'cars1', 'chess', 'churn', 'clean1', 'clean2', 'cleve', 'cleveland', 'cleveland-nominal', 'cloud', 'cmc', 'coil2000', 'colic', 'collins', 'confidence', 'connect-4', 'contraceptive', 'corral', 'credit-a', 'credit-g', 'crx', 'dermatology', 'diabetes', 'dis', 'dna', 'ecoli', 'fars', 'flags', 'flare', 'german', 'glass', 'glass2', 'haberman', 'hayes-roth', 'heart-c', 'heart-h', 'heart-statlog', 'hepatitis', 'horse-colic', 'house-votes-84', 'hungarian', 'hypothyroid', 'ionosphere', 'iris', 'irish', 'kddcup', 'kr-vs-kp', 'krkopt', 'labor', 'led24', 'led7', 'letter', 'liver-disorder', 'lupus', 'lymphography', 'magic', 'mfeat-factors', 'mfeat-fourier', 'mfeat-karhunen', 'mfeat-morphological', 'mfeat-pixel', 'mfeat-zernike', 'mnist', 'mofn-3-7-10', 'molecular-biology_promoters', 'monk1', 'monk2', 'monk3', 'movement_libras', 'mushroom', 'mux6', 'new-thyroid', 'nursery', 'optdigits', 'page-blocks', 'parity5', 'parity5+5', 'pendigits', 'phoneme', 'pima', 'poker', 'postoperative-patient-data', 'prnn_crabs', 'prnn_fglass', 'prnn_synth', 'profb', 'promoters', 'ring', 'saheart', 'satimage', 'schizo', 'segmentation', 'shuttle', 'sleep', 'solar-flare_1', 'solar-flare_2', 'sonar', 'soybean', 'spambase', 'spect', 'spectf', 'splice', 'tae', 'texture', 'threeOf9', 'tic-tac-toe', 'titanic', 'tokyo1', 'twonorm', 'vehicle', 'vote', 'vowel', 'waveform-21', 'waveform-40', 'wdbc', 'wine-quality-red', 'wine-quality-white', 'wine-recognition', 'xd6', 'yeast']\n",
      "\n"
     ]
    }
   ],
   "source": [
    "from pmlb import classification_dataset_names, regression_dataset_names\n",
    "\n",
    "print(classification_dataset_names)\n",
    "print('')\n",
    "#print(regression_dataset_names)"
   ]
  },
  {
   "cell_type": "code",
   "execution_count": null,
   "metadata": {
    "collapsed": true
   },
   "outputs": [],
   "source": [
    "from sklearn.linear_model import LogisticRegression\n",
    "from sklearn.naive_bayes import GaussianNB\n",
    "from sklearn.model_selection import train_test_split\n",
    "\n",
    "import matplotlib.pyplot as plt\n",
    "import seaborn as sb\n",
    "\n",
    "from pmlb import fetch_data, classification_dataset_names\n",
    "\n",
    "logit_test_scores = []\n",
    "gnb_test_scores = []\n",
    "\n",
    "for classification_dataset in classification_dataset_names:\n",
    "    X, y = fetch_data(classification_dataset, return_X_y=True)\n",
    "    train_X, test_X, train_y, test_y = train_test_split(X, y)\n",
    "\n",
    "    logit = LogisticRegression()\n",
    "    gnb = GaussianNB()\n",
    "\n",
    "    logit.fit(train_X, train_y)\n",
    "    gnb.fit(train_X, train_y)\n",
    "\n",
    "    logit_test_scores.append(logit.score(test_X, test_y))\n",
    "    gnb_test_scores.append(gnb.score(test_X, test_y))\n",
    "\n",
    "sb.boxplot(data=[logit_test_scores, gnb_test_scores], notch=True)\n",
    "plt.xticks([0, 1], ['LogisticRegression', 'GaussianNB'])\n",
    "plt.ylabel('Test Accuracy')"
   ]
  },
  {
   "cell_type": "code",
   "execution_count": null,
   "metadata": {
    "collapsed": true
   },
   "outputs": [],
   "source": []
  }
 ],
 "metadata": {
  "kernelspec": {
   "display_name": "Python 2",
   "language": "python",
   "name": "python2"
  },
  "language_info": {
   "codemirror_mode": {
    "name": "ipython",
    "version": 2
   },
   "file_extension": ".py",
   "mimetype": "text/x-python",
   "name": "python",
   "nbconvert_exporter": "python",
   "pygments_lexer": "ipython2",
   "version": "2.7.14"
  }
 },
 "nbformat": 4,
 "nbformat_minor": 2
}
