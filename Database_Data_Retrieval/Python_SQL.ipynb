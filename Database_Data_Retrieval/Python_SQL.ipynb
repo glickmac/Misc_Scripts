{
 "cells": [
  {
   "cell_type": "markdown",
   "metadata": {},
   "source": [
    "### Creating a Database"
   ]
  },
  {
   "cell_type": "code",
   "execution_count": 2,
   "metadata": {
    "collapsed": true
   },
   "outputs": [],
   "source": [
    "## Import module\n",
    "import sqlite3\n",
    "\n",
    "## Connect to database \n",
    "my_db = sqlite3.connect(\"data/my_table.db\")\n",
    "\n",
    "## Cursor\n",
    "crsr = my_db.cursor()"
   ]
  },
  {
   "cell_type": "code",
   "execution_count": 3,
   "metadata": {
    "collapsed": true
   },
   "outputs": [],
   "source": []
  },
  {
   "cell_type": "code",
   "execution_count": 4,
   "metadata": {},
   "outputs": [
    {
     "data": {
      "text/plain": [
       "<sqlite3.Cursor at 0x10a4ee180>"
      ]
     },
     "execution_count": 4,
     "metadata": {},
     "output_type": "execute_result"
    }
   ],
   "source": [
    "## Use SQL Commands to Create Table\n",
    "sql_command = \"\"\"CREATE TABLE emp (staff_number INTEGER PRIMARY KEY, \n",
    "fname VARCHAR(20),\n",
    "lname VARCHAR(30),\n",
    "gender CHAR(1),\n",
    "joining DATE);\"\"\"\n",
    "\n",
    "## EXECUTE THE STATEMENT\n",
    "crsr.execute(sql_command)"
   ]
  },
  {
   "cell_type": "code",
   "execution_count": 5,
   "metadata": {},
   "outputs": [
    {
     "data": {
      "text/plain": [
       "<sqlite3.Cursor at 0x10a4ee180>"
      ]
     },
     "execution_count": 5,
     "metadata": {},
     "output_type": "execute_result"
    }
   ],
   "source": [
    "## Entering Data\n",
    "sql_command_2 = \"\"\"INSERT INTO emp VALUES (1, \"Bill\", \"Gates\", \"M\", \"1990-09-02\")\"\"\"\n",
    "\n",
    "\n",
    "## Execute the command\n",
    "crsr.execute(sql_command_2)"
   ]
  },
  {
   "cell_type": "code",
   "execution_count": 6,
   "metadata": {
    "collapsed": true
   },
   "outputs": [],
   "source": [
    "## Commit Changes to saved Database\n",
    "my_db.commit()\n",
    "\n",
    "## Close the connection\n",
    "my_db.close()"
   ]
  },
  {
   "cell_type": "markdown",
   "metadata": {},
   "source": [
    "### Fetching Data"
   ]
  },
  {
   "cell_type": "code",
   "execution_count": 7,
   "metadata": {
    "collapsed": true
   },
   "outputs": [],
   "source": [
    "## Import the module\n",
    "import sqlite3\n",
    "\n",
    "## Connect with the database\n",
    "my_db = sqlite3.connect(\"data/my_table.db\")\n",
    "\n",
    "## Connect Cursor\n",
    "crsr = my_db.cursor()"
   ]
  },
  {
   "cell_type": "code",
   "execution_count": 9,
   "metadata": {},
   "outputs": [],
   "source": [
    "## Select from table\n",
    "crsr.execute(\"SELECT * FROM emp\")\n",
    "\n",
    "## Store fetched data in variable\n",
    "var = crsr.fetchall()"
   ]
  },
  {
   "cell_type": "code",
   "execution_count": 10,
   "metadata": {},
   "outputs": [
    {
     "name": "stdout",
     "output_type": "stream",
     "text": [
      "(1, u'Bill', u'Gates', u'M', u'1990-09-02')\n"
     ]
    }
   ],
   "source": [
    "## Loop to print the data\n",
    "for i in var:\n",
    "    print(i)"
   ]
  },
  {
   "cell_type": "markdown",
   "metadata": {},
   "source": [
    "### Other SQL Commands"
   ]
  },
  {
   "cell_type": "code",
   "execution_count": null,
   "metadata": {
    "collapsed": true
   },
   "outputs": [],
   "source": []
  }
 ],
 "metadata": {
  "kernelspec": {
   "display_name": "Python 2",
   "language": "python",
   "name": "python2"
  },
  "language_info": {
   "codemirror_mode": {
    "name": "ipython",
    "version": 2
   },
   "file_extension": ".py",
   "mimetype": "text/x-python",
   "name": "python",
   "nbconvert_exporter": "python",
   "pygments_lexer": "ipython2",
   "version": "2.7.14"
  }
 },
 "nbformat": 4,
 "nbformat_minor": 2
}
