{
 "cells": [
  {
   "cell_type": "code",
   "execution_count": 1,
   "metadata": {},
   "outputs": [
    {
     "name": "stdout",
     "output_type": "stream",
     "text": [
      "<title>Welcome to Python.org</title>\n"
     ]
    }
   ],
   "source": [
    "from urllib.request import urlopen\n",
    " \n",
    "from bs4 import BeautifulSoup\n",
    " \n",
    "html = urlopen(\"https://www.python.org/\")\n",
    " \n",
    "res = BeautifulSoup(html.read(),\"html5lib\");\n",
    " \n",
    "print(res.title)"
   ]
  },
  {
   "cell_type": "code",
   "execution_count": 4,
   "metadata": {},
   "outputs": [
    {
     "name": "stdout",
     "output_type": "stream",
     "text": [
      "<title>Welcome to Python.org</title>\n"
     ]
    }
   ],
   "source": [
    "from urllib.request import urlopen\n",
    " \n",
    "from urllib.error import HTTPError\n",
    " \n",
    "from bs4 import BeautifulSoup\n",
    " \n",
    "try:\n",
    " \n",
    "    html = urlopen(\"https://www.python.org/\")\n",
    " \n",
    "except HTTPError as e:\n",
    " \n",
    "    print(e)\n",
    " \n",
    "else:\n",
    " \n",
    "    res = BeautifulSoup(html.read(),\"html5lib\")\n",
    " \n",
    "    print(res.title)"
   ]
  },
  {
   "cell_type": "code",
   "execution_count": 6,
   "metadata": {},
   "outputs": [
    {
     "name": "stdout",
     "output_type": "stream",
     "text": [
      "Server down or incorrect domain\n"
     ]
    }
   ],
   "source": [
    "from urllib.request import urlopen\n",
    " \n",
    "from urllib.error import HTTPError\n",
    " \n",
    "from urllib.error import URLError\n",
    " \n",
    "from bs4 import BeautifulSoup\n",
    " \n",
    "try:\n",
    " \n",
    "    html = urlopen(\"https://www.tpython.org/\")\n",
    " \n",
    "except HTTPError as e:\n",
    " \n",
    "    print(e)\n",
    " \n",
    "except URLError:\n",
    " \n",
    "    print(\"Server down or incorrect domain\")\n",
    " \n",
    "else:\n",
    " \n",
    "    res = BeautifulSoup(html.read(),\"html5lib\")\n",
    " \n",
    "    print(res.titles)"
   ]
  },
  {
   "cell_type": "code",
   "execution_count": null,
   "metadata": {
    "collapsed": true
   },
   "outputs": [],
   "source": []
  },
  {
   "cell_type": "code",
   "execution_count": 8,
   "metadata": {},
   "outputs": [
    {
     "name": "stdout",
     "output_type": "stream",
     "text": [
      "<title>Welcome to Python.org</title>\n"
     ]
    }
   ],
   "source": [
    "from urllib.request import urlopen\n",
    " \n",
    "from urllib.error import HTTPError\n",
    " \n",
    "from urllib.error import URLError\n",
    " \n",
    "from bs4 import BeautifulSoup\n",
    " \n",
    "try:\n",
    " \n",
    "    html = urlopen(\"https://www.python.org/\")\n",
    " \n",
    "except HTTPError as e:\n",
    " \n",
    "    print(e)\n",
    " \n",
    "except URLError:\n",
    " \n",
    "    print(\"Server down or incorrect domain\")\n",
    " \n",
    "else:\n",
    " \n",
    "    res = BeautifulSoup(html.read(),\"html5lib\")\n",
    "    \n",
    "    tags = res.findAll(\"h2\", {\"class\": \"widget-title\"})\n",
    " \n",
    "    if res.title is None:\n",
    " \n",
    "        print(\"Tag not found\")\n",
    " \n",
    "    else:\n",
    " \n",
    "        print(res.title)"
   ]
  },
  {
   "cell_type": "code",
   "execution_count": 12,
   "metadata": {},
   "outputs": [
    {
     "data": {
      "text/plain": [
       "[]"
      ]
     },
     "execution_count": 12,
     "metadata": {},
     "output_type": "execute_result"
    }
   ],
   "source": [
    "import re\n",
    " \n",
    "tags = res.findAll(\"img\", {\"src\": re.compile(\"\\.\\./uploads/photo_.*\\.png\")})"
   ]
  },
  {
   "cell_type": "code",
   "execution_count": 18,
   "metadata": {
    "scrolled": true
   },
   "outputs": [
    {
     "name": "stdout",
     "output_type": "stream",
     "text": [
      "\n",
      "        Cody Glickman\n",
      "        \n",
      "        \n",
      "        \n",
      "        \n",
      "        \n",
      "        \n",
      "        <link rel=\"stylesheet\" href=\"assets/css/noscript.css\" />\n",
      "    \n",
      "    \n",
      "\n",
      "        \n",
      "            \n",
      "\n",
      "                \n",
      "                \n",
      "                    \n",
      "                        \n",
      "                            \n",
      "                            Cody Glickman\n",
      "                            Bioinformatician in Denver, Colorado\n",
      "                        \n",
      "                        \n",
      "                        \n",
      "                            Projects\n",
      "                            Publications\n",
      "                            Contact Me\n",
      "                        \n",
      "                        \n",
      "                        \n",
      "                            \n",
      "                                GitHub: @glickmac\n",
      "                              \n",
      "                                LinkedIn\n",
      "\n",
      "                            \n",
      "                            \n",
      "                        \n",
      "                    \n",
      "                    \n",
      "                    \n",
      "                        \n",
      "                            Projects\n",
      "                            \n",
      "                                \n",
      "                                    \n",
      "                                        \n",
      "                                            \n",
      "                                            GRAB\n",
      "                                        \n",
      "                                        \n",
      "                                            Sequence batch retrieval by taxonomic query\n",
      "                                        \n",
      "                                        \n",
      "                                \n",
      "                            \n",
      "                            Back\n",
      "                        \n",
      "                        \n",
      "                        \n",
      "                            Publications\n",
      "                            \n",
      "                                2018\n",
      "                          \n",
      "                            \n",
      "                            Back\n",
      "                        \n",
      "                        \n",
      "                        \n",
      "                            Get In Touch\n",
      "                            \n",
      "                            \n",
      "                                GitHub: @glickmac\n",
      "                              \n",
      "                                LinkedIn\n",
      "\n",
      "\n",
      "                            \n",
      "                            \n",
      "                             Gmail\n",
      "                            \n",
      "                            \n",
      "                            \n",
      "                            \n",
      "                            Back\n",
      "                        \n",
      "                    \n",
      "                \n",
      "\n",
      "                \n",
      "                    \n",
      "                        \n",
      "                            See source codeOriginal Design: HTML5 UP\n",
      "                        \n",
      "                    \n",
      "\n",
      "            \n",
      "            \n",
      "            \n",
      "\n",
      "    \n",
      "\n",
      "\n"
     ]
    }
   ],
   "source": [
    "from urllib.request import urlopen\n",
    " \n",
    "from urllib.error import HTTPError\n",
    " \n",
    "from urllib.error import URLError\n",
    " \n",
    "from bs4 import BeautifulSoup\n",
    " \n",
    "try:\n",
    " \n",
    "    html = urlopen(\"https://glickmac.github.io/\")\n",
    " \n",
    "except HTTPError as e:\n",
    " \n",
    "    print(e)\n",
    " \n",
    "except URLError:\n",
    " \n",
    "    print(\"Server down or incorrect domain\")\n",
    " \n",
    "else:\n",
    " \n",
    "    res = BeautifulSoup(html.read(),\"html5lib\")\n",
    "    \n",
    "     \n",
    "    tags = res.findAll(\"img\", {\"src\": re.compile(\"\\.\\./photo_.*\\.png\")})\n",
    " \n",
    "    if res.title is None:\n",
    " \n",
    "        print(\"Tag not found\")\n",
    " \n",
    "    else:\n",
    " \n",
    "        print(res.getText())"
   ]
  },
  {
   "cell_type": "code",
   "execution_count": 22,
   "metadata": {},
   "outputs": [
    {
     "name": "stdout",
     "output_type": "stream",
     "text": [
      "About\n",
      "Downloads\n",
      "Documentation\n",
      "Community\n",
      "Success Stories\n",
      "News\n",
      "Events\n"
     ]
    }
   ],
   "source": [
    "from selenium import webdriver\n",
    " \n",
    "browser = webdriver.Chrome()\n",
    " \n",
    "browser.get(\"https://www.python.org/\")\n",
    " \n",
    "nav = browser.find_element_by_id(\"mainnav\")\n",
    " \n",
    "print(nav.text)"
   ]
  },
  {
   "cell_type": "code",
   "execution_count": 21,
   "metadata": {},
   "outputs": [
    {
     "name": "stderr",
     "output_type": "stream",
     "text": [
      "/home/cody/anaconda3/lib/python3.6/site-packages/selenium/webdriver/phantomjs/webdriver.py:49: UserWarning: Selenium support for PhantomJS has been deprecated, please use headless versions of Chrome or Firefox instead\n",
      "  warnings.warn('Selenium support for PhantomJS has been deprecated, please use headless '\n"
     ]
    },
    {
     "name": "stdout",
     "output_type": "stream",
     "text": [
      "Python is a programming language that lets you work quickly and integrate systems more effectively. Learn More\n"
     ]
    }
   ],
   "source": [
    "## Depreciated\n",
    "\n",
    "from selenium import webdriver\n",
    " \n",
    "browser = webdriver.PhantomJS()\n",
    " \n",
    "browser.get(\"https://www.python.org/\")\n",
    " \n",
    "print(browser.find_element_by_class_name(\"introduction\").text)\n",
    " \n",
    "browser.close()"
   ]
  },
  {
   "cell_type": "code",
   "execution_count": 26,
   "metadata": {},
   "outputs": [],
   "source": [
    "import time\n",
    "from selenium import webdriver\n",
    " \n",
    "driver = webdriver.Chrome()\n",
    "time.sleep(5)\n",
    "driver.quit()"
   ]
  },
  {
   "cell_type": "code",
   "execution_count": null,
   "metadata": {
    "collapsed": true
   },
   "outputs": [],
   "source": []
  },
  {
   "cell_type": "code",
   "execution_count": null,
   "metadata": {
    "collapsed": true
   },
   "outputs": [],
   "source": []
  },
  {
   "cell_type": "code",
   "execution_count": null,
   "metadata": {
    "collapsed": true
   },
   "outputs": [],
   "source": []
  }
 ],
 "metadata": {
  "kernelspec": {
   "display_name": "Python 3",
   "language": "python",
   "name": "python3"
  },
  "language_info": {
   "codemirror_mode": {
    "name": "ipython",
    "version": 3
   },
   "file_extension": ".py",
   "mimetype": "text/x-python",
   "name": "python",
   "nbconvert_exporter": "python",
   "pygments_lexer": "ipython3",
   "version": "3.6.4"
  }
 },
 "nbformat": 4,
 "nbformat_minor": 2
}
