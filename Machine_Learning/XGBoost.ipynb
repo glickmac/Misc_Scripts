{
 "cells": [
  {
   "cell_type": "markdown",
   "metadata": {},
   "source": [
    "### What is Gradiant Boosting?\n",
    "Gradient boosting is the optimization of a loss function by adding weak learners. Adaboost is an example of a famous gradiant boosting algorithm. Gradient boosting is comprised of three components.\n",
    "\n",
    "+ A loss function to optimize\n",
    "+ A weak learning algorithm\n",
    "+ An additive model\n",
    "\n",
    "New weak learners are added to the model to correct for residual errors of previous learners\n",
    "\n",
    "\n",
    "\n",
    "### What is XGBoost?\n",
    "XGboost is a gradiant boosting algorithm that uses decision trees. Traditional gradiant boosting algorithmns are slow because of the sequential nature of the additive model. XGBoost implements distributed computing and parallelization to speed and distribute the process across hardware.\n"
   ]
  },
  {
   "cell_type": "code",
   "execution_count": 9,
   "metadata": {},
   "outputs": [],
   "source": [
    "from numpy import loadtxt\n",
    "from xgboost import XGBClassifier\n",
    "from sklearn.model_selection import train_test_split\n",
    "from sklearn.metrics import accuracy_score\n",
    "\n",
    "\n",
    "seeds = loadtxt('data/seeds_dataset.txt', delimiter='\\t')"
   ]
  },
  {
   "cell_type": "code",
   "execution_count": 10,
   "metadata": {},
   "outputs": [],
   "source": [
    "# Split the data into matix and response\n",
    "X = seeds[:,0:6]\n",
    "Y = seeds[:,7]"
   ]
  },
  {
   "cell_type": "code",
   "execution_count": 11,
   "metadata": {
    "collapsed": true
   },
   "outputs": [],
   "source": [
    "# Train Test Split\n",
    "seed = 7\n",
    "test_size = 0.30\n",
    "Xtrain, Xtest, Ytrain, Ytest = train_test_split(X,Y, test_size=test_size, random_state=seed)"
   ]
  },
  {
   "cell_type": "code",
   "execution_count": 12,
   "metadata": {},
   "outputs": [
    {
     "data": {
      "text/plain": [
       "XGBClassifier(base_score=0.5, booster='gbtree', colsample_bylevel=1,\n",
       "       colsample_bytree=1, gamma=0, learning_rate=0.1, max_delta_step=0,\n",
       "       max_depth=3, min_child_weight=1, missing=None, n_estimators=100,\n",
       "       n_jobs=1, nthread=None, objective='multi:softprob', random_state=0,\n",
       "       reg_alpha=0, reg_lambda=1, scale_pos_weight=1, seed=None,\n",
       "       silent=True, subsample=1)"
      ]
     },
     "execution_count": 12,
     "metadata": {},
     "output_type": "execute_result"
    }
   ],
   "source": [
    "model = XGBClassifier()\n",
    "model.fit(Xtrain,Ytrain)"
   ]
  },
  {
   "cell_type": "code",
   "execution_count": 13,
   "metadata": {
    "collapsed": true
   },
   "outputs": [],
   "source": [
    "y_pred = model.predict(Xtest)\n",
    "predictions = [round(value) for value in y_pred]"
   ]
  },
  {
   "cell_type": "code",
   "execution_count": 14,
   "metadata": {},
   "outputs": [
    {
     "name": "stdout",
     "output_type": "stream",
     "text": [
      "Accuracy: 87.30%\n"
     ]
    }
   ],
   "source": [
    "accuracy = accuracy_score(Ytest, predictions)\n",
    "print(\"Accuracy: %.2f%%\" % (accuracy * 100))"
   ]
  },
  {
   "cell_type": "markdown",
   "metadata": {},
   "source": [
    "## Adding Early Stopping\n",
    "\n",
    "Why add early stopping to limit the number of added models when the improvement on the validation set is stagnant"
   ]
  },
  {
   "cell_type": "code",
   "execution_count": 17,
   "metadata": {},
   "outputs": [
    {
     "name": "stdout",
     "output_type": "stream",
     "text": [
      "[0]\tvalidation_0-mlogloss:0.991322\n",
      "Will train until validation_0-mlogloss hasn't improved in 10 rounds.\n",
      "[1]\tvalidation_0-mlogloss:0.901136\n",
      "[2]\tvalidation_0-mlogloss:0.824736\n",
      "[3]\tvalidation_0-mlogloss:0.758384\n",
      "[4]\tvalidation_0-mlogloss:0.696645\n",
      "[5]\tvalidation_0-mlogloss:0.64579\n",
      "[6]\tvalidation_0-mlogloss:0.599396\n",
      "[7]\tvalidation_0-mlogloss:0.560468\n",
      "[8]\tvalidation_0-mlogloss:0.524656\n",
      "[9]\tvalidation_0-mlogloss:0.495259\n",
      "[10]\tvalidation_0-mlogloss:0.468132\n",
      "[11]\tvalidation_0-mlogloss:0.444329\n",
      "[12]\tvalidation_0-mlogloss:0.419029\n",
      "[13]\tvalidation_0-mlogloss:0.396437\n",
      "[14]\tvalidation_0-mlogloss:0.376703\n",
      "[15]\tvalidation_0-mlogloss:0.360419\n",
      "[16]\tvalidation_0-mlogloss:0.344193\n",
      "[17]\tvalidation_0-mlogloss:0.332595\n",
      "[18]\tvalidation_0-mlogloss:0.319433\n",
      "[19]\tvalidation_0-mlogloss:0.308658\n",
      "[20]\tvalidation_0-mlogloss:0.301146\n",
      "[21]\tvalidation_0-mlogloss:0.292714\n",
      "[22]\tvalidation_0-mlogloss:0.287553\n",
      "[23]\tvalidation_0-mlogloss:0.277096\n",
      "[24]\tvalidation_0-mlogloss:0.271158\n",
      "[25]\tvalidation_0-mlogloss:0.265957\n",
      "[26]\tvalidation_0-mlogloss:0.26345\n",
      "[27]\tvalidation_0-mlogloss:0.258624\n",
      "[28]\tvalidation_0-mlogloss:0.257518\n",
      "[29]\tvalidation_0-mlogloss:0.254796\n",
      "[30]\tvalidation_0-mlogloss:0.251554\n",
      "[31]\tvalidation_0-mlogloss:0.24907\n",
      "[32]\tvalidation_0-mlogloss:0.246272\n",
      "[33]\tvalidation_0-mlogloss:0.243388\n",
      "[34]\tvalidation_0-mlogloss:0.241426\n",
      "[35]\tvalidation_0-mlogloss:0.239045\n",
      "[36]\tvalidation_0-mlogloss:0.237264\n",
      "[37]\tvalidation_0-mlogloss:0.235679\n",
      "[38]\tvalidation_0-mlogloss:0.234223\n",
      "[39]\tvalidation_0-mlogloss:0.232122\n",
      "[40]\tvalidation_0-mlogloss:0.233326\n",
      "[41]\tvalidation_0-mlogloss:0.231844\n",
      "[42]\tvalidation_0-mlogloss:0.229782\n",
      "[43]\tvalidation_0-mlogloss:0.228104\n",
      "[44]\tvalidation_0-mlogloss:0.227388\n",
      "[45]\tvalidation_0-mlogloss:0.22631\n",
      "[46]\tvalidation_0-mlogloss:0.225705\n",
      "[47]\tvalidation_0-mlogloss:0.224393\n",
      "[48]\tvalidation_0-mlogloss:0.225597\n",
      "[49]\tvalidation_0-mlogloss:0.224243\n",
      "[50]\tvalidation_0-mlogloss:0.22486\n",
      "[51]\tvalidation_0-mlogloss:0.225144\n",
      "[52]\tvalidation_0-mlogloss:0.22119\n",
      "[53]\tvalidation_0-mlogloss:0.219262\n",
      "[54]\tvalidation_0-mlogloss:0.218538\n",
      "[55]\tvalidation_0-mlogloss:0.218122\n",
      "[56]\tvalidation_0-mlogloss:0.216752\n",
      "[57]\tvalidation_0-mlogloss:0.217634\n",
      "[58]\tvalidation_0-mlogloss:0.218259\n",
      "[59]\tvalidation_0-mlogloss:0.218936\n",
      "[60]\tvalidation_0-mlogloss:0.219554\n",
      "[61]\tvalidation_0-mlogloss:0.217678\n",
      "[62]\tvalidation_0-mlogloss:0.219346\n",
      "[63]\tvalidation_0-mlogloss:0.219134\n",
      "[64]\tvalidation_0-mlogloss:0.219936\n",
      "[65]\tvalidation_0-mlogloss:0.221278\n",
      "[66]\tvalidation_0-mlogloss:0.222415\n",
      "Stopping. Best iteration:\n",
      "[56]\tvalidation_0-mlogloss:0.216752\n",
      "\n"
     ]
    },
    {
     "data": {
      "text/plain": [
       "XGBClassifier(base_score=0.5, booster='gbtree', colsample_bylevel=1,\n",
       "       colsample_bytree=1, gamma=0, learning_rate=0.1, max_delta_step=0,\n",
       "       max_depth=3, min_child_weight=1, missing=None, n_estimators=100,\n",
       "       n_jobs=1, nthread=None, objective='multi:softprob', random_state=0,\n",
       "       reg_alpha=0, reg_lambda=1, scale_pos_weight=1, seed=None,\n",
       "       silent=True, subsample=1)"
      ]
     },
     "execution_count": 17,
     "metadata": {},
     "output_type": "execute_result"
    }
   ],
   "source": [
    "model = XGBClassifier()\n",
    "eval_set = [(Xtest, Ytest)]\n",
    "model.fit(Xtrain,Ytrain, early_stopping_rounds=10, eval_metric=\"mlogloss\",eval_set=eval_set, verbose=True)"
   ]
  },
  {
   "cell_type": "code",
   "execution_count": 18,
   "metadata": {},
   "outputs": [
    {
     "name": "stdout",
     "output_type": "stream",
     "text": [
      "Accuracy: 87.30%\n"
     ]
    }
   ],
   "source": [
    "## Make predictions on model and compare to test response\n",
    "y_pred = model.predict(Xtest)\n",
    "predictions = [round(value) for value in y_pred]\n",
    "accuracy = accuracy_score(Ytest, predictions)\n",
    "print(\"Accuracy: %.2f%%\" % (accuracy * 100))"
   ]
  },
  {
   "cell_type": "markdown",
   "metadata": {},
   "source": [
    "### Feature Importance Using XGBoost"
   ]
  },
  {
   "cell_type": "code",
   "execution_count": 23,
   "metadata": {},
   "outputs": [
    {
     "data": {
      "image/png": "[encoded data removed]",
      "text/plain": [
       "<matplotlib.figure.Figure at 0x1a11fa9990>"
      ]
     },
     "metadata": {},
     "output_type": "display_data"
    }
   ],
   "source": [
    "from matplotlib import pyplot\n",
    "xgboost.plot_importance(model)\n",
    "pyplot.show()"
   ]
  },
  {
   "cell_type": "markdown",
   "metadata": {},
   "source": [
    "### Configure Gradiant Boosting\n",
    "\n",
    "+ learning rate\n",
    "+ depth of trees\n",
    "+ row sampling\n",
    "\n",
    "Set the number of trees to a target value of 100 or 1000, then tune the learning rate to find the best model. \n",
    "\n",
    "1. Run the default configuration and review plots of the learning curves on the training and validation datasets.\n",
    "2. If the system is overlearning, decrease the learning rate and/or increase the number of trees.\n",
    "3. If the system is underlearning, speed the learning up to be more aggressive by increasing the learning rate and/or decreasing the number of trees."
   ]
  },
  {
   "cell_type": "markdown",
   "metadata": {},
   "source": [
    "### Tuning XGBoost Hyperparameters"
   ]
  },
  {
   "cell_type": "code",
   "execution_count": 24,
   "metadata": {
    "collapsed": true
   },
   "outputs": [],
   "source": [
    "n_estimators = [50, 100, 150, 200]\n",
    "max_depth = [2,4,6,8]\n",
    "param_grid = dict(max_depth=max_depth, n_estimators=n_estimators)"
   ]
  },
  {
   "cell_type": "code",
   "execution_count": 26,
   "metadata": {},
   "outputs": [
    {
     "name": "stdout",
     "output_type": "stream",
     "text": [
      "Fitting 10 folds for each of 16 candidates, totalling 160 fits\n"
     ]
    },
    {
     "name": "stderr",
     "output_type": "stream",
     "text": [
      "[Parallel(n_jobs=1)]: Done 160 out of 160 | elapsed:    6.5s finished\n"
     ]
    }
   ],
   "source": [
    "from sklearn.model_selection import GridSearchCV\n",
    "from sklearn.model_selection import StratifiedKFold\n",
    "kfold = StratifiedKFold(n_splits=10, shuffle=True, random_state=7)\n",
    "grid_search = GridSearchCV(model, param_grid, scoring=\"neg_log_loss\", n_jobs=1, cv=kfold, verbose=1)\n",
    "result = grid_search.fit(X, Y)"
   ]
  },
  {
   "cell_type": "code",
   "execution_count": 28,
   "metadata": {},
   "outputs": [
    {
     "name": "stdout",
     "output_type": "stream",
     "text": [
      "Best: -0.261119 using {'n_estimators': 50, 'max_depth': 2}\n"
     ]
    }
   ],
   "source": [
    "print(\"Best: %f using %s\" % (result.best_score_, result.best_params_))"
   ]
  },
  {
   "cell_type": "code",
   "execution_count": 31,
   "metadata": {},
   "outputs": [],
   "source": [
    "means = result.cv_results_['mean_test_score']\n",
    "stds = result.cv_results_['std_test_score']\n",
    "params = result.cv_results_['params']\n",
    "#for mean, stdev, param in zip(means, stds, params):\n",
    "   # print(\"%f (%f) with: %r\" % (mean, stdev, param))"
   ]
  },
  {
   "cell_type": "markdown",
   "metadata": {},
   "source": [
    "### Test Improvement of Model with optimized parameters"
   ]
  },
  {
   "cell_type": "code",
   "execution_count": 33,
   "metadata": {},
   "outputs": [
    {
     "name": "stdout",
     "output_type": "stream",
     "text": [
      "[0]\tvalidation_0-mlogloss:0.995903\n",
      "Will train until validation_0-mlogloss hasn't improved in 10 rounds.\n",
      "[1]\tvalidation_0-mlogloss:0.908406\n",
      "[2]\tvalidation_0-mlogloss:0.83178\n",
      "[3]\tvalidation_0-mlogloss:0.765453\n",
      "[4]\tvalidation_0-mlogloss:0.708349\n",
      "[5]\tvalidation_0-mlogloss:0.657645\n",
      "[6]\tvalidation_0-mlogloss:0.611872\n",
      "[7]\tvalidation_0-mlogloss:0.573916\n",
      "[8]\tvalidation_0-mlogloss:0.537774\n",
      "[9]\tvalidation_0-mlogloss:0.507919\n",
      "[10]\tvalidation_0-mlogloss:0.479049\n",
      "[11]\tvalidation_0-mlogloss:0.455235\n",
      "[12]\tvalidation_0-mlogloss:0.434331\n",
      "[13]\tvalidation_0-mlogloss:0.415722\n",
      "[14]\tvalidation_0-mlogloss:0.398217\n",
      "[15]\tvalidation_0-mlogloss:0.381415\n",
      "[16]\tvalidation_0-mlogloss:0.366371\n",
      "[17]\tvalidation_0-mlogloss:0.352855\n",
      "[18]\tvalidation_0-mlogloss:0.340776\n",
      "[19]\tvalidation_0-mlogloss:0.32966\n",
      "[20]\tvalidation_0-mlogloss:0.321302\n",
      "[21]\tvalidation_0-mlogloss:0.312144\n",
      "[22]\tvalidation_0-mlogloss:0.301412\n",
      "[23]\tvalidation_0-mlogloss:0.291351\n",
      "[24]\tvalidation_0-mlogloss:0.285851\n",
      "[25]\tvalidation_0-mlogloss:0.277192\n",
      "[26]\tvalidation_0-mlogloss:0.273602\n",
      "[27]\tvalidation_0-mlogloss:0.267909\n",
      "[28]\tvalidation_0-mlogloss:0.262322\n",
      "[29]\tvalidation_0-mlogloss:0.257335\n",
      "[30]\tvalidation_0-mlogloss:0.253328\n",
      "[31]\tvalidation_0-mlogloss:0.245679\n",
      "[32]\tvalidation_0-mlogloss:0.24521\n",
      "[33]\tvalidation_0-mlogloss:0.242712\n",
      "[34]\tvalidation_0-mlogloss:0.236595\n",
      "[35]\tvalidation_0-mlogloss:0.236245\n",
      "[36]\tvalidation_0-mlogloss:0.230859\n",
      "[37]\tvalidation_0-mlogloss:0.230896\n",
      "[38]\tvalidation_0-mlogloss:0.227004\n",
      "[39]\tvalidation_0-mlogloss:0.22697\n",
      "[40]\tvalidation_0-mlogloss:0.223441\n",
      "[41]\tvalidation_0-mlogloss:0.221602\n",
      "[42]\tvalidation_0-mlogloss:0.22001\n",
      "[43]\tvalidation_0-mlogloss:0.218161\n",
      "[44]\tvalidation_0-mlogloss:0.217396\n",
      "[45]\tvalidation_0-mlogloss:0.2156\n",
      "[46]\tvalidation_0-mlogloss:0.212893\n",
      "[47]\tvalidation_0-mlogloss:0.213914\n",
      "[48]\tvalidation_0-mlogloss:0.211395\n",
      "[49]\tvalidation_0-mlogloss:0.210563\n",
      "Accuracy: 88.89%\n"
     ]
    }
   ],
   "source": [
    "model = XGBClassifier(n_estimators=50, max_depth=2)\n",
    "model.fit(Xtrain,Ytrain, early_stopping_rounds=10, eval_metric=\"mlogloss\",eval_set=eval_set, verbose=True)\n",
    "\n",
    "\n",
    "## Make predictions on model and compare to test response\n",
    "y_pred = model.predict(Xtest)\n",
    "predictions = [round(value) for value in y_pred]\n",
    "accuracy = accuracy_score(Ytest, predictions)\n",
    "print(\"Accuracy: %.2f%%\" % (accuracy * 100))"
   ]
  },
  {
   "cell_type": "code",
   "execution_count": 34,
   "metadata": {},
   "outputs": [
    {
     "data": {
      "image/png": "[encoded data removed]",
      "text/plain": [
       "<matplotlib.figure.Figure at 0x1a155b65d0>"
      ]
     },
     "metadata": {},
     "output_type": "display_data"
    }
   ],
   "source": [
    "xgboost.plot_importance(model)\n",
    "pyplot.show()"
   ]
  },
  {
   "cell_type": "markdown",
   "metadata": {},
   "source": [
    "### Configure learning rate with GridSearch"
   ]
  },
  {
   "cell_type": "code",
   "execution_count": 35,
   "metadata": {
    "collapsed": true
   },
   "outputs": [],
   "source": [
    "learning_rate = [0.0001, 0.001, 0.01, 0.1, 0.2, 0.3]\n",
    "n_estimators = [50, 100, 150, 200]\n",
    "max_depth = [2,4,6,8]\n",
    "param_grid = dict(learning_rate=learning_rate, max_depth=max_depth, n_estimators=n_estimators)"
   ]
  },
  {
   "cell_type": "code",
   "execution_count": null,
   "metadata": {
    "collapsed": true
   },
   "outputs": [],
   "source": [
    "kfold = StratifiedKFold(n_splits=10, shuffle=True, random_state=7)\n",
    "grid_search = GridSearchCV(model, param_grid, scoring=\"neg_log_loss\", n_jobs=-1, cv=kfold)\n",
    "result = grid_search.fit(X, Y)"
   ]
  },
  {
   "cell_type": "code",
   "execution_count": null,
   "metadata": {
    "collapsed": true
   },
   "outputs": [],
   "source": [
    "print(\"Best: %f using %s\" % (result.best_score_, result.best_params_))"
   ]
  }
 ],
 "metadata": {
  "kernelspec": {
   "display_name": "Python 2",
   "language": "python",
   "name": "python2"
  },
  "language_info": {
   "codemirror_mode": {
    "name": "ipython",
    "version": 2
   },
   "file_extension": ".py",
   "mimetype": "text/x-python",
   "name": "python",
   "nbconvert_exporter": "python",
   "pygments_lexer": "ipython2",
   "version": "2.7.14"
  }
 },
 "nbformat": 4,
 "nbformat_minor": 2
}
