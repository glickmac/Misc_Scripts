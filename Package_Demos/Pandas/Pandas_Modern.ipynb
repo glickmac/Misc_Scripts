{
 "cells": [
  {
   "cell_type": "code",
   "execution_count": null,
   "metadata": {
    "collapsed": true
   },
   "outputs": [],
   "source": [
    "import os\n",
    "import zipfile\n",
    "\n",
    "import requests\n",
    "import numpy as np\n",
    "import pandas as pd\n",
    "import seaborn as sns\n",
    "import matplotlib.pyplot as plt"
   ]
  },
  {
   "cell_type": "markdown",
   "metadata": {},
   "source": [
    "## Get Flight Data\n",
    "[Download Data](https://www.transtats.bts.gov/DL_SelectFields.asp) will take you to a page to select the info for the analysis. The columns selected are shown in chunk below."
   ]
  },
  {
   "cell_type": "code",
   "execution_count": 18,
   "metadata": {},
   "outputs": [
    {
     "name": "stdout",
     "output_type": "stream",
     "text": [
      "<class 'pandas.core.frame.DataFrame'>\n",
      "RangeIndex: 570131 entries, 0 to 570130\n",
      "Data columns (total 21 columns):\n",
      "fl_date                  570131 non-null datetime64[ns]\n",
      "airline_id               570131 non-null int64\n",
      "carrier                  570131 non-null object\n",
      "origin_airport_id        570131 non-null int64\n",
      "origin_airport_seq_id    570131 non-null int64\n",
      "origin_city_market_id    570131 non-null int64\n",
      "origin_city_name         570131 non-null object\n",
      "dest_airport_id          570131 non-null int64\n",
      "dest_airport_seq_id      570131 non-null int64\n",
      "dest_city_market_id      570131 non-null int64\n",
      "dest_city_name           570131 non-null object\n",
      "dep_delay                552805 non-null float64\n",
      "dep_delay_new            552805 non-null float64\n",
      "arr_delay                551505 non-null float64\n",
      "arr_delay_new            551505 non-null float64\n",
      "air_time                 551707 non-null float64\n",
      "distance                 570131 non-null float64\n",
      "carrier_delay            97766 non-null float64\n",
      "weather_delay            97766 non-null float64\n",
      "late_aircraft_delay      97766 non-null float64\n",
      "unnamed: 20              0 non-null float64\n",
      "dtypes: datetime64[ns](1), float64(10), int64(7), object(3)\n",
      "memory usage: 91.3+ MB\n"
     ]
    }
   ],
   "source": [
    "fp = 'data/flights.csv'\n",
    "df = pd.read_csv(fp, parse_dates=[\"FL_DATE\"]).rename(columns=str.lower)\n",
    "\n",
    "df.info()"
   ]
  },
  {
   "cell_type": "markdown",
   "metadata": {},
   "source": [
    "### DataFrame Indexing"
   ]
  },
  {
   "cell_type": "code",
   "execution_count": null,
   "metadata": {},
   "outputs": [],
   "source": [
    "first = df.groupby('airline_id')[['fl_date', 'carrier']].first()\n",
    "first.head()"
   ]
  },
  {
   "cell_type": "markdown",
   "metadata": {},
   "source": [
    "Multidimensional Indexing\n",
    "Introduction of multi-indexed [slicers](http://pandas.pydata.org/pandas-docs/version/0.18.0/whatsnew.html#multiindexing-using-slicers)"
   ]
  },
  {
   "cell_type": "code",
   "execution_count": null,
   "metadata": {},
   "outputs": [],
   "source": [
    "hdf = df.set_index(['carrier', 'origin_city_name', 'dest_city_name',\n",
    "                    'fl_date']).sort_index()\n",
    "hdf[hdf.columns[:4]].head()"
   ]
  },
  {
   "cell_type": "code",
   "execution_count": null,
   "metadata": {},
   "outputs": [],
   "source": [
    "## Index by American Airlines (AA), US Airlines (US), and Delta (DL)\n",
    "hdf.loc[['AA', 'DL', 'US'], ['air_time', 'dep_delay']]"
   ]
  },
  {
   "cell_type": "code",
   "execution_count": null,
   "metadata": {},
   "outputs": [],
   "source": [
    "## Add in Origin City Names\n",
    "hdf.loc[(['AA', 'DL', 'US'], ['Chicago, IL', 'Denver, CO']), ['air_time', 'dep_delay']]"
   ]
  },
  {
   "cell_type": "code",
   "execution_count": null,
   "metadata": {},
   "outputs": [],
   "source": [
    "## IndexSlice to remove first index slicing \n",
    "hdf.loc[pd.IndexSlice[:, ['Chicago, IL', 'Denver, CO']], ['air_time', 'dep_delay']]"
   ]
  },
  {
   "cell_type": "code",
   "execution_count": null,
   "metadata": {
    "collapsed": true
   },
   "outputs": [],
   "source": []
  }
 ],
 "metadata": {
  "kernelspec": {
   "display_name": "Python 3",
   "language": "python",
   "name": "python3"
  },
  "language_info": {
   "codemirror_mode": {
    "name": "ipython",
    "version": 3
   },
   "file_extension": ".py",
   "mimetype": "text/x-python",
   "name": "python",
   "nbconvert_exporter": "python",
   "pygments_lexer": "ipython3",
   "version": "3.6.4"
  }
 },
 "nbformat": 4,
 "nbformat_minor": 2
}
